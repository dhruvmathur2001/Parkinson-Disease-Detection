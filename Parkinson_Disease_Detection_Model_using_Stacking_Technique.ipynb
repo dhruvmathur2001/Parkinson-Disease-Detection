{
  "nbformat": 4,
  "nbformat_minor": 0,
  "metadata": {
    "colab": {
      "provenance": [],
      "include_colab_link": true
    },
    "kernelspec": {
      "name": "python3",
      "display_name": "Python 3"
    },
    "language_info": {
      "name": "python"
    }
  },
  "cells": [
    {
      "cell_type": "markdown",
      "metadata": {
        "id": "view-in-github",
        "colab_type": "text"
      },
      "source": [
        "<a href=\"https://colab.research.google.com/github/dhruvmathur2001/Parkinson-Disease-Detection/blob/main/Parkinson_Disease_Detection_Model_using_Stacking_Technique.ipynb\" target=\"_parent\"><img src=\"https://colab.research.google.com/assets/colab-badge.svg\" alt=\"Open In Colab\"/></a>"
      ]
    },
    {
      "cell_type": "code",
      "source": [
        "#importing libraries\n",
        "import pandas as pd\n",
        "import numpy as np\n",
        "import seaborn as sns\n",
        "from sklearn.model_selection import train_test_split, KFold\n",
        "from sklearn.preprocessing import StandardScaler\n",
        "from sklearn.feature_selection import RFE\n",
        "from sklearn.ensemble import RandomForestClassifier\n",
        "from sklearn.svm import SVC\n",
        "from sklearn.neighbors import KNeighborsClassifier\n",
        "from sklearn.naive_bayes import GaussianNB\n",
        "from sklearn.neural_network import MLPClassifier\n",
        "from sklearn.metrics import accuracy_score\n",
        "from sklearn.pipeline import make_pipeline"
      ],
      "metadata": {
        "id": "VAeUGatJWU6c"
      },
      "execution_count": 1,
      "outputs": []
    },
    {
      "cell_type": "code",
      "source": [
        "# Load the dataset\n",
        "data = pd.read_csv(\"/content/parkinsons.csv\")"
      ],
      "metadata": {
        "id": "dXWavqm_WY0g"
      },
      "execution_count": 2,
      "outputs": []
    },
    {
      "cell_type": "markdown",
      "source": [
        "\n"
      ],
      "metadata": {
        "id": "rhglOnMmchvI"
      }
    },
    {
      "cell_type": "code",
      "source": [
        "# Checking Presence of any Missing Value\n",
        "data.isnull().sum()\n"
      ],
      "metadata": {
        "colab": {
          "base_uri": "https://localhost:8080/",
          "height": 836
        },
        "id": "DVkBXpwCW5nv",
        "outputId": "dad76677-7db9-48a6-839d-2d94a667a226"
      },
      "execution_count": 3,
      "outputs": [
        {
          "output_type": "execute_result",
          "data": {
            "text/plain": [
              "name                0\n",
              "MDVP:Fo(Hz)         0\n",
              "MDVP:Fhi(Hz)        0\n",
              "MDVP:Flo(Hz)        0\n",
              "MDVP:Jitter(%)      0\n",
              "MDVP:Jitter(Abs)    0\n",
              "MDVP:RAP            0\n",
              "MDVP:PPQ            0\n",
              "Jitter:DDP          0\n",
              "MDVP:Shimmer        0\n",
              "MDVP:Shimmer(dB)    0\n",
              "Shimmer:APQ3        0\n",
              "Shimmer:APQ5        0\n",
              "MDVP:APQ            0\n",
              "Shimmer:DDA         0\n",
              "NHR                 0\n",
              "HNR                 0\n",
              "status              0\n",
              "RPDE                0\n",
              "DFA                 0\n",
              "spread1             0\n",
              "spread2             0\n",
              "D2                  0\n",
              "PPE                 0\n",
              "dtype: int64"
            ],
            "text/html": [
              "<div>\n",
              "<style scoped>\n",
              "    .dataframe tbody tr th:only-of-type {\n",
              "        vertical-align: middle;\n",
              "    }\n",
              "\n",
              "    .dataframe tbody tr th {\n",
              "        vertical-align: top;\n",
              "    }\n",
              "\n",
              "    .dataframe thead th {\n",
              "        text-align: right;\n",
              "    }\n",
              "</style>\n",
              "<table border=\"1\" class=\"dataframe\">\n",
              "  <thead>\n",
              "    <tr style=\"text-align: right;\">\n",
              "      <th></th>\n",
              "      <th>0</th>\n",
              "    </tr>\n",
              "  </thead>\n",
              "  <tbody>\n",
              "    <tr>\n",
              "      <th>name</th>\n",
              "      <td>0</td>\n",
              "    </tr>\n",
              "    <tr>\n",
              "      <th>MDVP:Fo(Hz)</th>\n",
              "      <td>0</td>\n",
              "    </tr>\n",
              "    <tr>\n",
              "      <th>MDVP:Fhi(Hz)</th>\n",
              "      <td>0</td>\n",
              "    </tr>\n",
              "    <tr>\n",
              "      <th>MDVP:Flo(Hz)</th>\n",
              "      <td>0</td>\n",
              "    </tr>\n",
              "    <tr>\n",
              "      <th>MDVP:Jitter(%)</th>\n",
              "      <td>0</td>\n",
              "    </tr>\n",
              "    <tr>\n",
              "      <th>MDVP:Jitter(Abs)</th>\n",
              "      <td>0</td>\n",
              "    </tr>\n",
              "    <tr>\n",
              "      <th>MDVP:RAP</th>\n",
              "      <td>0</td>\n",
              "    </tr>\n",
              "    <tr>\n",
              "      <th>MDVP:PPQ</th>\n",
              "      <td>0</td>\n",
              "    </tr>\n",
              "    <tr>\n",
              "      <th>Jitter:DDP</th>\n",
              "      <td>0</td>\n",
              "    </tr>\n",
              "    <tr>\n",
              "      <th>MDVP:Shimmer</th>\n",
              "      <td>0</td>\n",
              "    </tr>\n",
              "    <tr>\n",
              "      <th>MDVP:Shimmer(dB)</th>\n",
              "      <td>0</td>\n",
              "    </tr>\n",
              "    <tr>\n",
              "      <th>Shimmer:APQ3</th>\n",
              "      <td>0</td>\n",
              "    </tr>\n",
              "    <tr>\n",
              "      <th>Shimmer:APQ5</th>\n",
              "      <td>0</td>\n",
              "    </tr>\n",
              "    <tr>\n",
              "      <th>MDVP:APQ</th>\n",
              "      <td>0</td>\n",
              "    </tr>\n",
              "    <tr>\n",
              "      <th>Shimmer:DDA</th>\n",
              "      <td>0</td>\n",
              "    </tr>\n",
              "    <tr>\n",
              "      <th>NHR</th>\n",
              "      <td>0</td>\n",
              "    </tr>\n",
              "    <tr>\n",
              "      <th>HNR</th>\n",
              "      <td>0</td>\n",
              "    </tr>\n",
              "    <tr>\n",
              "      <th>status</th>\n",
              "      <td>0</td>\n",
              "    </tr>\n",
              "    <tr>\n",
              "      <th>RPDE</th>\n",
              "      <td>0</td>\n",
              "    </tr>\n",
              "    <tr>\n",
              "      <th>DFA</th>\n",
              "      <td>0</td>\n",
              "    </tr>\n",
              "    <tr>\n",
              "      <th>spread1</th>\n",
              "      <td>0</td>\n",
              "    </tr>\n",
              "    <tr>\n",
              "      <th>spread2</th>\n",
              "      <td>0</td>\n",
              "    </tr>\n",
              "    <tr>\n",
              "      <th>D2</th>\n",
              "      <td>0</td>\n",
              "    </tr>\n",
              "    <tr>\n",
              "      <th>PPE</th>\n",
              "      <td>0</td>\n",
              "    </tr>\n",
              "  </tbody>\n",
              "</table>\n",
              "</div><br><label><b>dtype:</b> int64</label>"
            ]
          },
          "metadata": {},
          "execution_count": 3
        }
      ]
    },
    {
      "cell_type": "markdown",
      "source": [],
      "metadata": {
        "id": "wxcjm6NyQFDz"
      }
    },
    {
      "cell_type": "code",
      "source": [
        "data_req =  data.drop(columns=['name'])"
      ],
      "metadata": {
        "id": "xuXBgG3gv0VB"
      },
      "execution_count": 4,
      "outputs": []
    },
    {
      "cell_type": "code",
      "source": [
        "# Outlier removal\n",
        "z_scores = np.abs((data_req - data_req.mean()) / data_req.std())\n",
        "\n",
        "threshold = 3\n",
        "\n",
        "data_outliers_removed = data_req[(z_scores < threshold).all(axis=1)]\n",
        "\n",
        "print(\"Original DataFrame:\\n\", data_req)\n",
        "print(\"\\nDataFrame without outliers:\\n\", data_outliers_removed)\n"
      ],
      "metadata": {
        "colab": {
          "base_uri": "https://localhost:8080/"
        },
        "id": "pNRm_t4Zv0Nq",
        "outputId": "11bd6992-fe74-4185-d543-cef439c64612"
      },
      "execution_count": 5,
      "outputs": [
        {
          "output_type": "stream",
          "name": "stdout",
          "text": [
            "Original DataFrame:\n",
            "      MDVP:Fo(Hz)  MDVP:Fhi(Hz)  MDVP:Flo(Hz)  MDVP:Jitter(%)  \\\n",
            "0        119.992       157.302        74.997         0.00784   \n",
            "1        122.400       148.650       113.819         0.00968   \n",
            "2        116.682       131.111       111.555         0.01050   \n",
            "3        116.676       137.871       111.366         0.00997   \n",
            "4        116.014       141.781       110.655         0.01284   \n",
            "..           ...           ...           ...             ...   \n",
            "190      174.188       230.978        94.261         0.00459   \n",
            "191      209.516       253.017        89.488         0.00564   \n",
            "192      174.688       240.005        74.287         0.01360   \n",
            "193      198.764       396.961        74.904         0.00740   \n",
            "194      214.289       260.277        77.973         0.00567   \n",
            "\n",
            "     MDVP:Jitter(Abs)  MDVP:RAP  MDVP:PPQ  Jitter:DDP  MDVP:Shimmer  \\\n",
            "0             0.00007   0.00370   0.00554     0.01109       0.04374   \n",
            "1             0.00008   0.00465   0.00696     0.01394       0.06134   \n",
            "2             0.00009   0.00544   0.00781     0.01633       0.05233   \n",
            "3             0.00009   0.00502   0.00698     0.01505       0.05492   \n",
            "4             0.00011   0.00655   0.00908     0.01966       0.06425   \n",
            "..                ...       ...       ...         ...           ...   \n",
            "190           0.00003   0.00263   0.00259     0.00790       0.04087   \n",
            "191           0.00003   0.00331   0.00292     0.00994       0.02751   \n",
            "192           0.00008   0.00624   0.00564     0.01873       0.02308   \n",
            "193           0.00004   0.00370   0.00390     0.01109       0.02296   \n",
            "194           0.00003   0.00295   0.00317     0.00885       0.01884   \n",
            "\n",
            "     MDVP:Shimmer(dB)  ...  Shimmer:DDA      NHR     HNR  status      RPDE  \\\n",
            "0               0.426  ...      0.06545  0.02211  21.033       1  0.414783   \n",
            "1               0.626  ...      0.09403  0.01929  19.085       1  0.458359   \n",
            "2               0.482  ...      0.08270  0.01309  20.651       1  0.429895   \n",
            "3               0.517  ...      0.08771  0.01353  20.644       1  0.434969   \n",
            "4               0.584  ...      0.10470  0.01767  19.649       1  0.417356   \n",
            "..                ...  ...          ...      ...     ...     ...       ...   \n",
            "190             0.405  ...      0.07008  0.02764  19.517       0  0.448439   \n",
            "191             0.263  ...      0.04812  0.01810  19.147       0  0.431674   \n",
            "192             0.256  ...      0.03804  0.10715  17.883       0  0.407567   \n",
            "193             0.241  ...      0.03794  0.07223  19.020       0  0.451221   \n",
            "194             0.190  ...      0.03078  0.04398  21.209       0  0.462803   \n",
            "\n",
            "          DFA   spread1   spread2        D2       PPE  \n",
            "0    0.815285 -4.813031  0.266482  2.301442  0.284654  \n",
            "1    0.819521 -4.075192  0.335590  2.486855  0.368674  \n",
            "2    0.825288 -4.443179  0.311173  2.342259  0.332634  \n",
            "3    0.819235 -4.117501  0.334147  2.405554  0.368975  \n",
            "4    0.823484 -3.747787  0.234513  2.332180  0.410335  \n",
            "..        ...       ...       ...       ...       ...  \n",
            "190  0.657899 -6.538586  0.121952  2.657476  0.133050  \n",
            "191  0.683244 -6.195325  0.129303  2.784312  0.168895  \n",
            "192  0.655683 -6.787197  0.158453  2.679772  0.131728  \n",
            "193  0.643956 -6.744577  0.207454  2.138608  0.123306  \n",
            "194  0.664357 -5.724056  0.190667  2.555477  0.148569  \n",
            "\n",
            "[195 rows x 23 columns]\n",
            "\n",
            "DataFrame without outliers:\n",
            "      MDVP:Fo(Hz)  MDVP:Fhi(Hz)  MDVP:Flo(Hz)  MDVP:Jitter(%)  \\\n",
            "0        119.992       157.302        74.997         0.00784   \n",
            "1        122.400       148.650       113.819         0.00968   \n",
            "2        116.682       131.111       111.555         0.01050   \n",
            "3        116.676       137.871       111.366         0.00997   \n",
            "4        116.014       141.781       110.655         0.01284   \n",
            "..           ...           ...           ...             ...   \n",
            "190      174.188       230.978        94.261         0.00459   \n",
            "191      209.516       253.017        89.488         0.00564   \n",
            "192      174.688       240.005        74.287         0.01360   \n",
            "193      198.764       396.961        74.904         0.00740   \n",
            "194      214.289       260.277        77.973         0.00567   \n",
            "\n",
            "     MDVP:Jitter(Abs)  MDVP:RAP  MDVP:PPQ  Jitter:DDP  MDVP:Shimmer  \\\n",
            "0             0.00007   0.00370   0.00554     0.01109       0.04374   \n",
            "1             0.00008   0.00465   0.00696     0.01394       0.06134   \n",
            "2             0.00009   0.00544   0.00781     0.01633       0.05233   \n",
            "3             0.00009   0.00502   0.00698     0.01505       0.05492   \n",
            "4             0.00011   0.00655   0.00908     0.01966       0.06425   \n",
            "..                ...       ...       ...         ...           ...   \n",
            "190           0.00003   0.00263   0.00259     0.00790       0.04087   \n",
            "191           0.00003   0.00331   0.00292     0.00994       0.02751   \n",
            "192           0.00008   0.00624   0.00564     0.01873       0.02308   \n",
            "193           0.00004   0.00370   0.00390     0.01109       0.02296   \n",
            "194           0.00003   0.00295   0.00317     0.00885       0.01884   \n",
            "\n",
            "     MDVP:Shimmer(dB)  ...  Shimmer:DDA      NHR     HNR  status      RPDE  \\\n",
            "0               0.426  ...      0.06545  0.02211  21.033       1  0.414783   \n",
            "1               0.626  ...      0.09403  0.01929  19.085       1  0.458359   \n",
            "2               0.482  ...      0.08270  0.01309  20.651       1  0.429895   \n",
            "3               0.517  ...      0.08771  0.01353  20.644       1  0.434969   \n",
            "4               0.584  ...      0.10470  0.01767  19.649       1  0.417356   \n",
            "..                ...  ...          ...      ...     ...     ...       ...   \n",
            "190             0.405  ...      0.07008  0.02764  19.517       0  0.448439   \n",
            "191             0.263  ...      0.04812  0.01810  19.147       0  0.431674   \n",
            "192             0.256  ...      0.03804  0.10715  17.883       0  0.407567   \n",
            "193             0.241  ...      0.03794  0.07223  19.020       0  0.451221   \n",
            "194             0.190  ...      0.03078  0.04398  21.209       0  0.462803   \n",
            "\n",
            "          DFA   spread1   spread2        D2       PPE  \n",
            "0    0.815285 -4.813031  0.266482  2.301442  0.284654  \n",
            "1    0.819521 -4.075192  0.335590  2.486855  0.368674  \n",
            "2    0.825288 -4.443179  0.311173  2.342259  0.332634  \n",
            "3    0.819235 -4.117501  0.334147  2.405554  0.368975  \n",
            "4    0.823484 -3.747787  0.234513  2.332180  0.410335  \n",
            "..        ...       ...       ...       ...       ...  \n",
            "190  0.657899 -6.538586  0.121952  2.657476  0.133050  \n",
            "191  0.683244 -6.195325  0.129303  2.784312  0.168895  \n",
            "192  0.655683 -6.787197  0.158453  2.679772  0.131728  \n",
            "193  0.643956 -6.744577  0.207454  2.138608  0.123306  \n",
            "194  0.664357 -5.724056  0.190667  2.555477  0.148569  \n",
            "\n",
            "[181 rows x 23 columns]\n"
          ]
        }
      ]
    },
    {
      "cell_type": "markdown",
      "source": [],
      "metadata": {
        "id": "dpsxYRTe1N4r"
      }
    },
    {
      "cell_type": "code",
      "source": [
        "import warnings\n",
        "from sklearn.exceptions import ConvergenceWarning\n",
        "warnings.filterwarnings(\"ignore\", category=ConvergenceWarning)\n"
      ],
      "metadata": {
        "id": "YW1FjHRM1PgD"
      },
      "execution_count": 6,
      "outputs": []
    },
    {
      "cell_type": "code",
      "source": [],
      "metadata": {
        "id": "0OsuHDdv1PdT"
      },
      "execution_count": 6,
      "outputs": []
    },
    {
      "cell_type": "code",
      "source": [
        "# Split data into features (X) and target variable (y)\n",
        "X = data_outliers_removed.drop(columns=['status'])\n",
        "y = data_outliers_removed['status']"
      ],
      "metadata": {
        "id": "yUQWN3xTXmeN"
      },
      "execution_count": 7,
      "outputs": []
    },
    {
      "cell_type": "code",
      "source": [
        "# Split the data into training and testing sets\n",
        "X_train, X_test, y_train, y_test = train_test_split(X, y, test_size=0.2, random_state=42)\n",
        "\n",
        "# Feature scaling\n",
        "scaler = StandardScaler()\n",
        "X_train_scaled = scaler.fit_transform(X_train)\n",
        "X_test_scaled = scaler.transform(X_test)"
      ],
      "metadata": {
        "id": "vda9dCofXxH1"
      },
      "execution_count": 8,
      "outputs": []
    },
    {
      "cell_type": "code",
      "source": [
        "# RFE using Random Forest classifier\n",
        "\n",
        "rf_classifier = RandomForestClassifier(n_estimators=100, random_state=42)\n",
        "\n",
        "rfe = RFE(estimator=rf_classifier, n_features_to_select=10, step=1)\n",
        "\n",
        "rfe.fit(X_train_scaled, y_train)\n",
        "\n",
        "selected_features = X.columns[rfe.support_]\n",
        "\n",
        "X_train_selected = rfe.transform(X_train_scaled)\n",
        "X_test_selected = rfe.transform(X_test_scaled)"
      ],
      "metadata": {
        "id": "Putf7J3DhBVl"
      },
      "execution_count": 9,
      "outputs": []
    },
    {
      "cell_type": "code",
      "source": [
        "selected_features"
      ],
      "metadata": {
        "colab": {
          "base_uri": "https://localhost:8080/"
        },
        "id": "FsB4VItEYI4X",
        "outputId": "90bc9e83-a742-474a-9346-587fccc11251"
      },
      "execution_count": 10,
      "outputs": [
        {
          "output_type": "execute_result",
          "data": {
            "text/plain": [
              "Index(['MDVP:Fo(Hz)', 'MDVP:Fhi(Hz)', 'MDVP:Flo(Hz)', 'MDVP:RAP', 'Jitter:DDP',\n",
              "       'MDVP:APQ', 'spread1', 'spread2', 'D2', 'PPE'],\n",
              "      dtype='object')"
            ]
          },
          "metadata": {},
          "execution_count": 10
        }
      ]
    },
    {
      "cell_type": "code",
      "source": [
        "selected_features.shape"
      ],
      "metadata": {
        "colab": {
          "base_uri": "https://localhost:8080/"
        },
        "id": "NebUsf60iu_P",
        "outputId": "67ecb84f-bddd-47ca-9422-b9ecb69662f3"
      },
      "execution_count": 11,
      "outputs": [
        {
          "output_type": "execute_result",
          "data": {
            "text/plain": [
              "(10,)"
            ]
          },
          "metadata": {},
          "execution_count": 11
        }
      ]
    },
    {
      "cell_type": "code",
      "source": [
        "df = pd.DataFrame(X_train_selected)\n",
        "df"
      ],
      "metadata": {
        "colab": {
          "base_uri": "https://localhost:8080/",
          "height": 423
        },
        "id": "k1HG8Sdae_du",
        "outputId": "fb3004ed-6bcb-49e1-be87-cc4b564cb841"
      },
      "execution_count": 12,
      "outputs": [
        {
          "output_type": "execute_result",
          "data": {
            "text/plain": [
              "            0         1         2         3         4         5         6  \\\n",
              "0    1.732680  0.870949 -0.137823 -0.846325 -0.846777 -0.775909 -1.476786   \n",
              "1   -0.443816 -0.285916 -1.201638  1.529862  1.527834  0.353703  0.508869   \n",
              "2    1.029080  0.394635  1.640349 -0.859135 -0.859589 -1.165373 -1.844395   \n",
              "3   -0.444833 -0.392840  0.269586 -0.961612 -0.959955 -0.853471 -0.711243   \n",
              "4    0.670124  0.188828  1.074283 -0.859135 -0.857454 -0.775909 -1.207199   \n",
              "..        ...       ...       ...       ...       ...       ...       ...   \n",
              "139  1.248883  0.565990  1.796528  0.639592  0.641626 -0.715674 -0.635674   \n",
              "140 -0.068228 -0.338292 -0.980026 -0.942398 -0.940736 -0.766007 -0.270083   \n",
              "141  0.049492 -0.184908 -1.147610 -0.462036 -0.464533  0.486549 -0.416115   \n",
              "142  1.018103  3.367913 -1.001033  0.652402  0.650168 -0.483810 -0.908274   \n",
              "143 -0.090963 -0.426166  0.325372 -0.980827 -0.979174 -0.748679 -0.764011   \n",
              "\n",
              "            7         8         9  \n",
              "0   -2.655126 -0.660653 -1.290849  \n",
              "1   -0.218067 -0.170774  0.404561  \n",
              "2   -0.613365 -0.704526 -1.580904  \n",
              "3   -0.864006 -0.879644 -0.699713  \n",
              "4   -1.956739  0.027414 -0.986458  \n",
              "..        ...       ...       ...  \n",
              "139 -0.478193  0.426212 -0.726421  \n",
              "140 -0.242598 -0.640765 -0.302131  \n",
              "141 -0.433237 -0.589124 -0.419034  \n",
              "142 -0.196139 -0.603973 -0.891103  \n",
              "143  0.313773  0.417183 -1.117659  \n",
              "\n",
              "[144 rows x 10 columns]"
            ],
            "text/html": [
              "\n",
              "  <div id=\"df-5706f083-70df-4e7d-975a-1af47646605e\" class=\"colab-df-container\">\n",
              "    <div>\n",
              "<style scoped>\n",
              "    .dataframe tbody tr th:only-of-type {\n",
              "        vertical-align: middle;\n",
              "    }\n",
              "\n",
              "    .dataframe tbody tr th {\n",
              "        vertical-align: top;\n",
              "    }\n",
              "\n",
              "    .dataframe thead th {\n",
              "        text-align: right;\n",
              "    }\n",
              "</style>\n",
              "<table border=\"1\" class=\"dataframe\">\n",
              "  <thead>\n",
              "    <tr style=\"text-align: right;\">\n",
              "      <th></th>\n",
              "      <th>0</th>\n",
              "      <th>1</th>\n",
              "      <th>2</th>\n",
              "      <th>3</th>\n",
              "      <th>4</th>\n",
              "      <th>5</th>\n",
              "      <th>6</th>\n",
              "      <th>7</th>\n",
              "      <th>8</th>\n",
              "      <th>9</th>\n",
              "    </tr>\n",
              "  </thead>\n",
              "  <tbody>\n",
              "    <tr>\n",
              "      <th>0</th>\n",
              "      <td>1.732680</td>\n",
              "      <td>0.870949</td>\n",
              "      <td>-0.137823</td>\n",
              "      <td>-0.846325</td>\n",
              "      <td>-0.846777</td>\n",
              "      <td>-0.775909</td>\n",
              "      <td>-1.476786</td>\n",
              "      <td>-2.655126</td>\n",
              "      <td>-0.660653</td>\n",
              "      <td>-1.290849</td>\n",
              "    </tr>\n",
              "    <tr>\n",
              "      <th>1</th>\n",
              "      <td>-0.443816</td>\n",
              "      <td>-0.285916</td>\n",
              "      <td>-1.201638</td>\n",
              "      <td>1.529862</td>\n",
              "      <td>1.527834</td>\n",
              "      <td>0.353703</td>\n",
              "      <td>0.508869</td>\n",
              "      <td>-0.218067</td>\n",
              "      <td>-0.170774</td>\n",
              "      <td>0.404561</td>\n",
              "    </tr>\n",
              "    <tr>\n",
              "      <th>2</th>\n",
              "      <td>1.029080</td>\n",
              "      <td>0.394635</td>\n",
              "      <td>1.640349</td>\n",
              "      <td>-0.859135</td>\n",
              "      <td>-0.859589</td>\n",
              "      <td>-1.165373</td>\n",
              "      <td>-1.844395</td>\n",
              "      <td>-0.613365</td>\n",
              "      <td>-0.704526</td>\n",
              "      <td>-1.580904</td>\n",
              "    </tr>\n",
              "    <tr>\n",
              "      <th>3</th>\n",
              "      <td>-0.444833</td>\n",
              "      <td>-0.392840</td>\n",
              "      <td>0.269586</td>\n",
              "      <td>-0.961612</td>\n",
              "      <td>-0.959955</td>\n",
              "      <td>-0.853471</td>\n",
              "      <td>-0.711243</td>\n",
              "      <td>-0.864006</td>\n",
              "      <td>-0.879644</td>\n",
              "      <td>-0.699713</td>\n",
              "    </tr>\n",
              "    <tr>\n",
              "      <th>4</th>\n",
              "      <td>0.670124</td>\n",
              "      <td>0.188828</td>\n",
              "      <td>1.074283</td>\n",
              "      <td>-0.859135</td>\n",
              "      <td>-0.857454</td>\n",
              "      <td>-0.775909</td>\n",
              "      <td>-1.207199</td>\n",
              "      <td>-1.956739</td>\n",
              "      <td>0.027414</td>\n",
              "      <td>-0.986458</td>\n",
              "    </tr>\n",
              "    <tr>\n",
              "      <th>...</th>\n",
              "      <td>...</td>\n",
              "      <td>...</td>\n",
              "      <td>...</td>\n",
              "      <td>...</td>\n",
              "      <td>...</td>\n",
              "      <td>...</td>\n",
              "      <td>...</td>\n",
              "      <td>...</td>\n",
              "      <td>...</td>\n",
              "      <td>...</td>\n",
              "    </tr>\n",
              "    <tr>\n",
              "      <th>139</th>\n",
              "      <td>1.248883</td>\n",
              "      <td>0.565990</td>\n",
              "      <td>1.796528</td>\n",
              "      <td>0.639592</td>\n",
              "      <td>0.641626</td>\n",
              "      <td>-0.715674</td>\n",
              "      <td>-0.635674</td>\n",
              "      <td>-0.478193</td>\n",
              "      <td>0.426212</td>\n",
              "      <td>-0.726421</td>\n",
              "    </tr>\n",
              "    <tr>\n",
              "      <th>140</th>\n",
              "      <td>-0.068228</td>\n",
              "      <td>-0.338292</td>\n",
              "      <td>-0.980026</td>\n",
              "      <td>-0.942398</td>\n",
              "      <td>-0.940736</td>\n",
              "      <td>-0.766007</td>\n",
              "      <td>-0.270083</td>\n",
              "      <td>-0.242598</td>\n",
              "      <td>-0.640765</td>\n",
              "      <td>-0.302131</td>\n",
              "    </tr>\n",
              "    <tr>\n",
              "      <th>141</th>\n",
              "      <td>0.049492</td>\n",
              "      <td>-0.184908</td>\n",
              "      <td>-1.147610</td>\n",
              "      <td>-0.462036</td>\n",
              "      <td>-0.464533</td>\n",
              "      <td>0.486549</td>\n",
              "      <td>-0.416115</td>\n",
              "      <td>-0.433237</td>\n",
              "      <td>-0.589124</td>\n",
              "      <td>-0.419034</td>\n",
              "    </tr>\n",
              "    <tr>\n",
              "      <th>142</th>\n",
              "      <td>1.018103</td>\n",
              "      <td>3.367913</td>\n",
              "      <td>-1.001033</td>\n",
              "      <td>0.652402</td>\n",
              "      <td>0.650168</td>\n",
              "      <td>-0.483810</td>\n",
              "      <td>-0.908274</td>\n",
              "      <td>-0.196139</td>\n",
              "      <td>-0.603973</td>\n",
              "      <td>-0.891103</td>\n",
              "    </tr>\n",
              "    <tr>\n",
              "      <th>143</th>\n",
              "      <td>-0.090963</td>\n",
              "      <td>-0.426166</td>\n",
              "      <td>0.325372</td>\n",
              "      <td>-0.980827</td>\n",
              "      <td>-0.979174</td>\n",
              "      <td>-0.748679</td>\n",
              "      <td>-0.764011</td>\n",
              "      <td>0.313773</td>\n",
              "      <td>0.417183</td>\n",
              "      <td>-1.117659</td>\n",
              "    </tr>\n",
              "  </tbody>\n",
              "</table>\n",
              "<p>144 rows × 10 columns</p>\n",
              "</div>\n",
              "    <div class=\"colab-df-buttons\">\n",
              "\n",
              "  <div class=\"colab-df-container\">\n",
              "    <button class=\"colab-df-convert\" onclick=\"convertToInteractive('df-5706f083-70df-4e7d-975a-1af47646605e')\"\n",
              "            title=\"Convert this dataframe to an interactive table.\"\n",
              "            style=\"display:none;\">\n",
              "\n",
              "  <svg xmlns=\"http://www.w3.org/2000/svg\" height=\"24px\" viewBox=\"0 -960 960 960\">\n",
              "    <path d=\"M120-120v-720h720v720H120Zm60-500h600v-160H180v160Zm220 220h160v-160H400v160Zm0 220h160v-160H400v160ZM180-400h160v-160H180v160Zm440 0h160v-160H620v160ZM180-180h160v-160H180v160Zm440 0h160v-160H620v160Z\"/>\n",
              "  </svg>\n",
              "    </button>\n",
              "\n",
              "  <style>\n",
              "    .colab-df-container {\n",
              "      display:flex;\n",
              "      gap: 12px;\n",
              "    }\n",
              "\n",
              "    .colab-df-convert {\n",
              "      background-color: #E8F0FE;\n",
              "      border: none;\n",
              "      border-radius: 50%;\n",
              "      cursor: pointer;\n",
              "      display: none;\n",
              "      fill: #1967D2;\n",
              "      height: 32px;\n",
              "      padding: 0 0 0 0;\n",
              "      width: 32px;\n",
              "    }\n",
              "\n",
              "    .colab-df-convert:hover {\n",
              "      background-color: #E2EBFA;\n",
              "      box-shadow: 0px 1px 2px rgba(60, 64, 67, 0.3), 0px 1px 3px 1px rgba(60, 64, 67, 0.15);\n",
              "      fill: #174EA6;\n",
              "    }\n",
              "\n",
              "    .colab-df-buttons div {\n",
              "      margin-bottom: 4px;\n",
              "    }\n",
              "\n",
              "    [theme=dark] .colab-df-convert {\n",
              "      background-color: #3B4455;\n",
              "      fill: #D2E3FC;\n",
              "    }\n",
              "\n",
              "    [theme=dark] .colab-df-convert:hover {\n",
              "      background-color: #434B5C;\n",
              "      box-shadow: 0px 1px 3px 1px rgba(0, 0, 0, 0.15);\n",
              "      filter: drop-shadow(0px 1px 2px rgba(0, 0, 0, 0.3));\n",
              "      fill: #FFFFFF;\n",
              "    }\n",
              "  </style>\n",
              "\n",
              "    <script>\n",
              "      const buttonEl =\n",
              "        document.querySelector('#df-5706f083-70df-4e7d-975a-1af47646605e button.colab-df-convert');\n",
              "      buttonEl.style.display =\n",
              "        google.colab.kernel.accessAllowed ? 'block' : 'none';\n",
              "\n",
              "      async function convertToInteractive(key) {\n",
              "        const element = document.querySelector('#df-5706f083-70df-4e7d-975a-1af47646605e');\n",
              "        const dataTable =\n",
              "          await google.colab.kernel.invokeFunction('convertToInteractive',\n",
              "                                                    [key], {});\n",
              "        if (!dataTable) return;\n",
              "\n",
              "        const docLinkHtml = 'Like what you see? Visit the ' +\n",
              "          '<a target=\"_blank\" href=https://colab.research.google.com/notebooks/data_table.ipynb>data table notebook</a>'\n",
              "          + ' to learn more about interactive tables.';\n",
              "        element.innerHTML = '';\n",
              "        dataTable['output_type'] = 'display_data';\n",
              "        await google.colab.output.renderOutput(dataTable, element);\n",
              "        const docLink = document.createElement('div');\n",
              "        docLink.innerHTML = docLinkHtml;\n",
              "        element.appendChild(docLink);\n",
              "      }\n",
              "    </script>\n",
              "  </div>\n",
              "\n",
              "\n",
              "<div id=\"df-b1bd6e59-6673-4fac-b7a3-a51f8b87c2cf\">\n",
              "  <button class=\"colab-df-quickchart\" onclick=\"quickchart('df-b1bd6e59-6673-4fac-b7a3-a51f8b87c2cf')\"\n",
              "            title=\"Suggest charts\"\n",
              "            style=\"display:none;\">\n",
              "\n",
              "<svg xmlns=\"http://www.w3.org/2000/svg\" height=\"24px\"viewBox=\"0 0 24 24\"\n",
              "     width=\"24px\">\n",
              "    <g>\n",
              "        <path d=\"M19 3H5c-1.1 0-2 .9-2 2v14c0 1.1.9 2 2 2h14c1.1 0 2-.9 2-2V5c0-1.1-.9-2-2-2zM9 17H7v-7h2v7zm4 0h-2V7h2v10zm4 0h-2v-4h2v4z\"/>\n",
              "    </g>\n",
              "</svg>\n",
              "  </button>\n",
              "\n",
              "<style>\n",
              "  .colab-df-quickchart {\n",
              "      --bg-color: #E8F0FE;\n",
              "      --fill-color: #1967D2;\n",
              "      --hover-bg-color: #E2EBFA;\n",
              "      --hover-fill-color: #174EA6;\n",
              "      --disabled-fill-color: #AAA;\n",
              "      --disabled-bg-color: #DDD;\n",
              "  }\n",
              "\n",
              "  [theme=dark] .colab-df-quickchart {\n",
              "      --bg-color: #3B4455;\n",
              "      --fill-color: #D2E3FC;\n",
              "      --hover-bg-color: #434B5C;\n",
              "      --hover-fill-color: #FFFFFF;\n",
              "      --disabled-bg-color: #3B4455;\n",
              "      --disabled-fill-color: #666;\n",
              "  }\n",
              "\n",
              "  .colab-df-quickchart {\n",
              "    background-color: var(--bg-color);\n",
              "    border: none;\n",
              "    border-radius: 50%;\n",
              "    cursor: pointer;\n",
              "    display: none;\n",
              "    fill: var(--fill-color);\n",
              "    height: 32px;\n",
              "    padding: 0;\n",
              "    width: 32px;\n",
              "  }\n",
              "\n",
              "  .colab-df-quickchart:hover {\n",
              "    background-color: var(--hover-bg-color);\n",
              "    box-shadow: 0 1px 2px rgba(60, 64, 67, 0.3), 0 1px 3px 1px rgba(60, 64, 67, 0.15);\n",
              "    fill: var(--button-hover-fill-color);\n",
              "  }\n",
              "\n",
              "  .colab-df-quickchart-complete:disabled,\n",
              "  .colab-df-quickchart-complete:disabled:hover {\n",
              "    background-color: var(--disabled-bg-color);\n",
              "    fill: var(--disabled-fill-color);\n",
              "    box-shadow: none;\n",
              "  }\n",
              "\n",
              "  .colab-df-spinner {\n",
              "    border: 2px solid var(--fill-color);\n",
              "    border-color: transparent;\n",
              "    border-bottom-color: var(--fill-color);\n",
              "    animation:\n",
              "      spin 1s steps(1) infinite;\n",
              "  }\n",
              "\n",
              "  @keyframes spin {\n",
              "    0% {\n",
              "      border-color: transparent;\n",
              "      border-bottom-color: var(--fill-color);\n",
              "      border-left-color: var(--fill-color);\n",
              "    }\n",
              "    20% {\n",
              "      border-color: transparent;\n",
              "      border-left-color: var(--fill-color);\n",
              "      border-top-color: var(--fill-color);\n",
              "    }\n",
              "    30% {\n",
              "      border-color: transparent;\n",
              "      border-left-color: var(--fill-color);\n",
              "      border-top-color: var(--fill-color);\n",
              "      border-right-color: var(--fill-color);\n",
              "    }\n",
              "    40% {\n",
              "      border-color: transparent;\n",
              "      border-right-color: var(--fill-color);\n",
              "      border-top-color: var(--fill-color);\n",
              "    }\n",
              "    60% {\n",
              "      border-color: transparent;\n",
              "      border-right-color: var(--fill-color);\n",
              "    }\n",
              "    80% {\n",
              "      border-color: transparent;\n",
              "      border-right-color: var(--fill-color);\n",
              "      border-bottom-color: var(--fill-color);\n",
              "    }\n",
              "    90% {\n",
              "      border-color: transparent;\n",
              "      border-bottom-color: var(--fill-color);\n",
              "    }\n",
              "  }\n",
              "</style>\n",
              "\n",
              "  <script>\n",
              "    async function quickchart(key) {\n",
              "      const quickchartButtonEl =\n",
              "        document.querySelector('#' + key + ' button');\n",
              "      quickchartButtonEl.disabled = true;  // To prevent multiple clicks.\n",
              "      quickchartButtonEl.classList.add('colab-df-spinner');\n",
              "      try {\n",
              "        const charts = await google.colab.kernel.invokeFunction(\n",
              "            'suggestCharts', [key], {});\n",
              "      } catch (error) {\n",
              "        console.error('Error during call to suggestCharts:', error);\n",
              "      }\n",
              "      quickchartButtonEl.classList.remove('colab-df-spinner');\n",
              "      quickchartButtonEl.classList.add('colab-df-quickchart-complete');\n",
              "    }\n",
              "    (() => {\n",
              "      let quickchartButtonEl =\n",
              "        document.querySelector('#df-b1bd6e59-6673-4fac-b7a3-a51f8b87c2cf button');\n",
              "      quickchartButtonEl.style.display =\n",
              "        google.colab.kernel.accessAllowed ? 'block' : 'none';\n",
              "    })();\n",
              "  </script>\n",
              "</div>\n",
              "\n",
              "  <div id=\"id_d5289b26-8e42-4cd8-b639-721f42c506f1\">\n",
              "    <style>\n",
              "      .colab-df-generate {\n",
              "        background-color: #E8F0FE;\n",
              "        border: none;\n",
              "        border-radius: 50%;\n",
              "        cursor: pointer;\n",
              "        display: none;\n",
              "        fill: #1967D2;\n",
              "        height: 32px;\n",
              "        padding: 0 0 0 0;\n",
              "        width: 32px;\n",
              "      }\n",
              "\n",
              "      .colab-df-generate:hover {\n",
              "        background-color: #E2EBFA;\n",
              "        box-shadow: 0px 1px 2px rgba(60, 64, 67, 0.3), 0px 1px 3px 1px rgba(60, 64, 67, 0.15);\n",
              "        fill: #174EA6;\n",
              "      }\n",
              "\n",
              "      [theme=dark] .colab-df-generate {\n",
              "        background-color: #3B4455;\n",
              "        fill: #D2E3FC;\n",
              "      }\n",
              "\n",
              "      [theme=dark] .colab-df-generate:hover {\n",
              "        background-color: #434B5C;\n",
              "        box-shadow: 0px 1px 3px 1px rgba(0, 0, 0, 0.15);\n",
              "        filter: drop-shadow(0px 1px 2px rgba(0, 0, 0, 0.3));\n",
              "        fill: #FFFFFF;\n",
              "      }\n",
              "    </style>\n",
              "    <button class=\"colab-df-generate\" onclick=\"generateWithVariable('df')\"\n",
              "            title=\"Generate code using this dataframe.\"\n",
              "            style=\"display:none;\">\n",
              "\n",
              "  <svg xmlns=\"http://www.w3.org/2000/svg\" height=\"24px\"viewBox=\"0 0 24 24\"\n",
              "       width=\"24px\">\n",
              "    <path d=\"M7,19H8.4L18.45,9,17,7.55,7,17.6ZM5,21V16.75L18.45,3.32a2,2,0,0,1,2.83,0l1.4,1.43a1.91,1.91,0,0,1,.58,1.4,1.91,1.91,0,0,1-.58,1.4L9.25,21ZM18.45,9,17,7.55Zm-12,3A5.31,5.31,0,0,0,4.9,8.1,5.31,5.31,0,0,0,1,6.5,5.31,5.31,0,0,0,4.9,4.9,5.31,5.31,0,0,0,6.5,1,5.31,5.31,0,0,0,8.1,4.9,5.31,5.31,0,0,0,12,6.5,5.46,5.46,0,0,0,6.5,12Z\"/>\n",
              "  </svg>\n",
              "    </button>\n",
              "    <script>\n",
              "      (() => {\n",
              "      const buttonEl =\n",
              "        document.querySelector('#id_d5289b26-8e42-4cd8-b639-721f42c506f1 button.colab-df-generate');\n",
              "      buttonEl.style.display =\n",
              "        google.colab.kernel.accessAllowed ? 'block' : 'none';\n",
              "\n",
              "      buttonEl.onclick = () => {\n",
              "        google.colab.notebook.generateWithVariable('df');\n",
              "      }\n",
              "      })();\n",
              "    </script>\n",
              "  </div>\n",
              "\n",
              "    </div>\n",
              "  </div>\n"
            ],
            "application/vnd.google.colaboratory.intrinsic+json": {
              "type": "dataframe",
              "variable_name": "df",
              "summary": "{\n  \"name\": \"df\",\n  \"rows\": 144,\n  \"fields\": [\n    {\n      \"column\": 0,\n      \"properties\": {\n        \"dtype\": \"number\",\n        \"std\": 1.003490412008509,\n        \"min\": -1.5944246165643996,\n        \"max\": 2.469281441015888,\n        \"num_unique_values\": 144,\n        \"samples\": [\n          0.2572997654007879,\n          -1.264638257654512,\n          -0.6243937647435873\n        ],\n        \"semantic_type\": \"\",\n        \"description\": \"\"\n      }\n    },\n    {\n      \"column\": 1,\n      \"properties\": {\n        \"dtype\": \"number\",\n        \"std\": 1.003490412008509,\n        \"min\": -1.3083994932677607,\n        \"max\": 4.21312543059196,\n        \"num_unique_values\": 144,\n        \"samples\": [\n          0.339054825198787,\n          -0.6630620877738744,\n          -0.7100606064534467\n        ],\n        \"semantic_type\": \"\",\n        \"description\": \"\"\n      }\n    },\n    {\n      \"column\": 2,\n      \"properties\": {\n        \"dtype\": \"number\",\n        \"std\": 1.0034904120085089,\n        \"min\": -1.213538959324484,\n        \"max\": 2.701504846729428,\n        \"num_unique_values\": 144,\n        \"samples\": [\n          -0.9305280894682258,\n          -0.7531391482633235,\n          -0.016039636791568487\n        ],\n        \"semantic_type\": \"\",\n        \"description\": \"\"\n      }\n    },\n    {\n      \"column\": 3,\n      \"properties\": {\n        \"dtype\": \"number\",\n        \"std\": 1.003490412008509,\n        \"min\": -1.2818528907708648,\n        \"max\": 5.167797490384636,\n        \"num_unique_values\": 119,\n        \"samples\": [\n          0.12080195875550555,\n          -0.19303405780518915,\n          -0.28270149110824505\n        ],\n        \"semantic_type\": \"\",\n        \"description\": \"\"\n      }\n    },\n    {\n      \"column\": 4,\n      \"properties\": {\n        \"dtype\": \"number\",\n        \"std\": 1.0034904120085089,\n        \"min\": -1.2824067886979862,\n        \"max\": 5.168762086801313,\n        \"num_unique_values\": 133,\n        \"samples\": [\n          -0.6375034453014988,\n          -0.7335983143506443,\n          2.0787781864876798\n        ],\n        \"semantic_type\": \"\",\n        \"description\": \"\"\n      }\n    },\n    {\n      \"column\": 5,\n      \"properties\": {\n        \"dtype\": \"number\",\n        \"std\": 1.003490412008509,\n        \"min\": -1.2008537257988676,\n        \"max\": 3.4529135868514205,\n        \"num_unique_values\": 142,\n        \"samples\": [\n          2.168176759582538,\n          -0.5135153975297736,\n          -0.18758665843458489\n        ],\n        \"semantic_type\": \"\",\n        \"description\": \"\"\n      }\n    },\n    {\n      \"column\": 6,\n      \"properties\": {\n        \"dtype\": \"number\",\n        \"std\": 1.0034904120085089,\n        \"min\": -2.126222709602443,\n        \"max\": 2.899239569681642,\n        \"num_unique_values\": 144,\n        \"samples\": [\n          1.3228162116802626,\n          2.899239569681642,\n          -1.0003220768072245\n        ],\n        \"semantic_type\": \"\",\n        \"description\": \"\"\n      }\n    },\n    {\n      \"column\": 7,\n      \"properties\": {\n        \"dtype\": \"number\",\n        \"std\": 1.0034904120085093,\n        \"min\": -2.6551263338681963,\n        \"max\": 2.576877351056696,\n        \"num_unique_values\": 143,\n        \"samples\": [\n          0.1725992426972768,\n          2.117543675523168,\n          0.9241683851901206\n        ],\n        \"semantic_type\": \"\",\n        \"description\": \"\"\n      }\n    },\n    {\n      \"column\": 8,\n      \"properties\": {\n        \"dtype\": \"number\",\n        \"std\": 1.0034904120085089,\n        \"min\": -2.6299748684528974,\n        \"max\": 2.735242336329065,\n        \"num_unique_values\": 144,\n        \"samples\": [\n          2.735242336329065,\n          0.5907290785796128,\n          -0.36291378799092394\n        ],\n        \"semantic_type\": \"\",\n        \"description\": \"\"\n      }\n    },\n    {\n      \"column\": 9,\n      \"properties\": {\n        \"dtype\": \"number\",\n        \"std\": 1.0034904120085089,\n        \"min\": -1.8825012569342396,\n        \"max\": 2.979011136191968,\n        \"num_unique_values\": 144,\n        \"samples\": [\n          1.357420373029324,\n          2.1790778803255804,\n          -0.58669874638501\n        ],\n        \"semantic_type\": \"\",\n        \"description\": \"\"\n      }\n    }\n  ]\n}"
            }
          },
          "metadata": {},
          "execution_count": 12
        }
      ]
    },
    {
      "cell_type": "code",
      "source": [
        "X_train_selected.shape"
      ],
      "metadata": {
        "colab": {
          "base_uri": "https://localhost:8080/"
        },
        "id": "wURZG2YsjElm",
        "outputId": "e94e18fa-b6bd-4de4-a9d5-44e2b3d1c5ee"
      },
      "execution_count": 13,
      "outputs": [
        {
          "output_type": "execute_result",
          "data": {
            "text/plain": [
              "(144, 10)"
            ]
          },
          "metadata": {},
          "execution_count": 13
        }
      ]
    },
    {
      "cell_type": "code",
      "source": [],
      "metadata": {
        "id": "xkmHbssQuTgW"
      },
      "execution_count": 13,
      "outputs": []
    },
    {
      "cell_type": "markdown",
      "source": [
        "Training with Individual Models"
      ],
      "metadata": {
        "id": "9AHDWOhKuWna"
      }
    },
    {
      "cell_type": "code",
      "source": [
        "#SVM classifier\n",
        "svm_classifier = SVC()\n",
        "\n",
        "svm_classifier.fit(X_train_selected, y_train)\n",
        "\n",
        "y_pred = svm_classifier.predict(X_test_selected)\n",
        "\n",
        "accuracy = accuracy_score(y_test, y_pred)\n",
        "\n",
        "from sklearn.metrics import precision_score, recall_score, f1_score\n",
        "\n",
        "precision = precision_score(y_test, y_pred)\n",
        "\n",
        "recall = recall_score(y_test, y_pred)\n",
        "\n",
        "f1 = f1_score(y_test, y_pred)\n",
        "\n",
        "print(f\"SVM Accuracy: {accuracy}\")\n",
        "print(f\"Precision: {precision}\")\n",
        "print(f\"Recall: {recall}\")\n",
        "print(f\"F1-score: {f1}\")\n",
        "\n"
      ],
      "metadata": {
        "colab": {
          "base_uri": "https://localhost:8080/"
        },
        "id": "1_uClAl6GVmx",
        "outputId": "4679d968-7743-45a6-fb2d-d7422f38c390"
      },
      "execution_count": 14,
      "outputs": [
        {
          "output_type": "stream",
          "name": "stdout",
          "text": [
            "SVM Accuracy: 0.8648648648648649\n",
            "Precision: 0.8709677419354839\n",
            "Recall: 0.9642857142857143\n",
            "F1-score: 0.9152542372881356\n"
          ]
        }
      ]
    },
    {
      "cell_type": "code",
      "source": [
        "knn_classifier = KNeighborsClassifier(n_neighbors=15)\n",
        "\n",
        "knn_classifier.fit(X_train_selected, y_train)\n",
        "\n",
        "y_pred_knn = knn_classifier.predict(X_test_selected)\n",
        "\n",
        "accuracy = accuracy_score(y_test, y_pred_knn)\n",
        "\n",
        "precision = precision_score(y_test, y_pred_knn)\n",
        "\n",
        "recall = recall_score(y_test, y_pred_knn)\n",
        "\n",
        "f1 = f1_score(y_test, y_pred_knn)\n",
        "\n",
        "print(f\"KNN Accuracy: {accuracy}\")\n",
        "print(f\"Precision: {precision}\")\n",
        "print(f\"Recall: {recall}\")\n",
        "print(f\"F1-score: {f1}\")\n"
      ],
      "metadata": {
        "colab": {
          "base_uri": "https://localhost:8080/"
        },
        "id": "KTUVibCTGVvQ",
        "outputId": "46996ba6-3a89-4dff-d691-87dd91f26bae"
      },
      "execution_count": 15,
      "outputs": [
        {
          "output_type": "stream",
          "name": "stdout",
          "text": [
            "KNN Accuracy: 0.8378378378378378\n",
            "Precision: 0.84375\n",
            "Recall: 0.9642857142857143\n",
            "F1-score: 0.9\n"
          ]
        }
      ]
    },
    {
      "cell_type": "code",
      "source": [
        "# GaussianNB classifier\n",
        "GNB_classifier = GaussianNB()\n",
        "\n",
        "GNB_classifier.fit(X_train_selected, y_train)\n",
        "\n",
        "y_pred_GNB = GNB_classifier.predict(X_test_selected)\n",
        "\n",
        "accuracy = accuracy_score(y_test, y_pred_GNB)\n",
        "\n",
        "precision = precision_score(y_test, y_pred)\n",
        "\n",
        "recall = recall_score(y_test, y_pred)\n",
        "\n",
        "f1 = f1_score(y_test, y_pred)\n",
        "\n",
        "print(f\"Gaussian naive Baiyes Accuracy: {accuracy}\")\n",
        "print(f\"Precision: {precision}\")\n",
        "print(f\"Recall: {recall}\")\n",
        "print(f\"F1-score: {f1}\")\n"
      ],
      "metadata": {
        "colab": {
          "base_uri": "https://localhost:8080/"
        },
        "id": "5utCLbFLarPa",
        "outputId": "e6df5a7c-1f32-42db-df9d-4daf03d33b77"
      },
      "execution_count": 16,
      "outputs": [
        {
          "output_type": "stream",
          "name": "stdout",
          "text": [
            "Gaussian naive Baiyes Accuracy: 0.8378378378378378\n",
            "Precision: 0.8709677419354839\n",
            "Recall: 0.9642857142857143\n",
            "F1-score: 0.9152542372881356\n"
          ]
        }
      ]
    },
    {
      "cell_type": "code",
      "source": [
        "#MLP Classifier\n",
        "mlp_classifier = MLPClassifier()\n",
        "\n",
        "mlp_classifier.fit(X_train_selected, y_train)\n",
        "\n",
        "y_pred_mlp = mlp_classifier.predict(X_test_selected)\n",
        "\n",
        "accuracy_mlp = accuracy_score(y_test, y_pred_mlp)\n",
        "\n",
        "precision = precision_score(y_test, y_pred)\n",
        "\n",
        "recall = recall_score(y_test, y_pred)\n",
        "\n",
        "f1 = f1_score(y_test, y_pred)\n",
        "\n",
        "print(f\"MLP Accuracy: {accuracy}\")\n",
        "print(f\"Precision: {precision}\")\n",
        "print(f\"Recall: {recall}\")\n",
        "print(f\"F1-score: {f1}\")"
      ],
      "metadata": {
        "colab": {
          "base_uri": "https://localhost:8080/"
        },
        "id": "ZuvC4Ezucvsk",
        "outputId": "442e8eb4-c2a4-41fa-be1c-b7e41bd13771"
      },
      "execution_count": 17,
      "outputs": [
        {
          "output_type": "stream",
          "name": "stdout",
          "text": [
            "MLP Accuracy: 0.8378378378378378\n",
            "Precision: 0.8709677419354839\n",
            "Recall: 0.9642857142857143\n",
            "F1-score: 0.9152542372881356\n"
          ]
        }
      ]
    },
    {
      "cell_type": "code",
      "source": [],
      "metadata": {
        "id": "QF5RyImZcvzf"
      },
      "execution_count": 17,
      "outputs": []
    },
    {
      "cell_type": "code",
      "source": [
        "#Random Forest classifier\n",
        "rf_classifier = RandomForestClassifier(n_estimators=150, random_state=42)\n",
        "\n",
        "rf_classifier.fit(X_train_selected, y_train)\n",
        "\n",
        "y_pred_rf = rf_classifier.predict(X_test_selected)\n",
        "\n",
        "accuracy_rf = accuracy_score(y_test, y_pred_rf)\n",
        "\n",
        "precision = precision_score(y_test, y_pred)\n",
        "\n",
        "recall = recall_score(y_test, y_pred)\n",
        "\n",
        "f1 = f1_score(y_test, y_pred)\n",
        "\n",
        "print(f\"Accuracy: {accuracy_rf}\")\n",
        "print(f\"Precision: {precision}\")\n",
        "print(f\"Recall: {recall}\")\n",
        "print(f\"F1-score: {f1}\")"
      ],
      "metadata": {
        "colab": {
          "base_uri": "https://localhost:8080/"
        },
        "id": "bv6fATOHfbrI",
        "outputId": "56e4ab3d-5bcb-42b7-dc7f-b9a013728aa8"
      },
      "execution_count": 18,
      "outputs": [
        {
          "output_type": "stream",
          "name": "stdout",
          "text": [
            "Accuracy: 0.8378378378378378\n",
            "Precision: 0.8709677419354839\n",
            "Recall: 0.9642857142857143\n",
            "F1-score: 0.9152542372881356\n"
          ]
        }
      ]
    },
    {
      "cell_type": "code",
      "source": [],
      "metadata": {
        "id": "1L2xH_LmrTSX"
      },
      "execution_count": 18,
      "outputs": []
    },
    {
      "cell_type": "code",
      "source": [
        "#Stacking Ensemble Model\n",
        "\n",
        "from sklearn.model_selection import GridSearchCV\n",
        "\n",
        "# Initialize base models\n",
        "base_models = [\n",
        "    SVC(probability=True, kernel='rbf', C=1.0),\n",
        "    KNeighborsClassifier(n_neighbors=5),\n",
        "    GaussianNB(),\n",
        "    MLPClassifier(max_iter=500, hidden_layer_sizes=(100,), alpha=0.0001),\n",
        "\n",
        "]\n",
        "\n",
        "# Initialize meta model\n",
        "meta_model = RandomForestClassifier(n_estimators=150, random_state=42)\n",
        "\n",
        "# Initialize k-fold cross-validation\n",
        "k_folds = 5\n",
        "kf = KFold(n_splits=k_folds, shuffle=True, random_state=42)\n",
        "\n",
        "# Initialize arrays to store meta-features\n",
        "meta_features_train = np.zeros((len(y_train), len(base_models)))\n",
        "meta_features_test = np.zeros((len(y_test), len(base_models)))\n",
        "\n",
        "# Train base models with k-fold validation and grid search for hyperparameters\n",
        "for i, model in enumerate(base_models):\n",
        "     if isinstance(model, SVC):\n",
        "        param_grid = {\n",
        "            'C': [0.1, 1, 10],\n",
        "            'kernel': ['rbf', 'linear'],\n",
        "            'gamma': ['scale', 'auto']\n",
        "        }\n",
        "     elif isinstance(model, KNeighborsClassifier):\n",
        "        param_grid = {\n",
        "            'n_neighbors': [3, 5, 7, 9],\n",
        "            'weights': ['uniform', 'distance'],\n",
        "            'metric': ['euclidean', 'manhattan']\n",
        "        }\n",
        "     elif isinstance(model, GaussianNB):\n",
        "        param_grid = {\n",
        "            'var_smoothing': np.logspace(0, -9, num=100)\n",
        "        }\n",
        "     elif isinstance(model, MLPClassifier):\n",
        "        param_grid = {\n",
        "            'hidden_layer_sizes': [(50,), (100,), (150,)],\n",
        "            'alpha': [0.0001, 0.001, 0.01],\n",
        "            'learning_rate': ['constant', 'adaptive'],\n",
        "            'solver': ['lbfgs', 'sgd', 'adam']\n",
        "        }\n",
        "\n",
        "    # grid search to find the best hyperparameters\n",
        "     grid_search = GridSearchCV(model, param_grid, cv=kf, scoring='accuracy')\n",
        "     grid_search.fit(X_train_selected, y_train)\n",
        "\n",
        "     best_model = grid_search.best_estimator_\n",
        "\n",
        "    # Train the best model on the entire training data\n",
        "     best_model.fit(X_train_selected, y_train)\n",
        "\n",
        "    # Generate meta-features using the best model\n",
        "     meta_features_train[:, i] = best_model.predict_proba(X_train_selected)[:, 1]\n",
        "     meta_features_test[:, i] = best_model.predict_proba(X_test_selected)[:, 1]\n",
        "\n",
        "# Train meta-model\n",
        "meta_model.fit(meta_features_train, y_train)\n",
        "\n",
        "# Make predictions using the stacked ensemble\n",
        "stacked_predictions = meta_model.predict(meta_features_test)\n",
        "\n",
        "# Evaluate stacked ensemble\n",
        "accuracy = accuracy_score(y_test, stacked_predictions)\n",
        "print(f\"Stacked Ensemble Accuracy: {accuracy}\")"
      ],
      "metadata": {
        "colab": {
          "base_uri": "https://localhost:8080/"
        },
        "id": "aPpd5Hwu78Ee",
        "outputId": "22eaca07-1fda-4045-a923-021121fde69f"
      },
      "execution_count": 32,
      "outputs": [
        {
          "output_type": "stream",
          "name": "stdout",
          "text": [
            "Stacked Ensemble Accuracy: 0.918918918918919\n"
          ]
        }
      ]
    },
    {
      "cell_type": "code",
      "source": [
        "from sklearn.metrics import confusion_matrix, roc_curve, auc\n",
        "from sklearn.model_selection import learning_curve\n",
        "import matplotlib.pyplot as plt"
      ],
      "metadata": {
        "id": "YlAQ2xLsh4uc"
      },
      "execution_count": 33,
      "outputs": []
    },
    {
      "cell_type": "code",
      "source": [
        "conf_matrix = confusion_matrix(y_test, stacked_predictions)\n",
        "print(\"Confusion Matrix:\")\n",
        "print(conf_matrix)"
      ],
      "metadata": {
        "id": "3heIK6Byh4ww",
        "colab": {
          "base_uri": "https://localhost:8080/"
        },
        "outputId": "be059064-588f-437a-ed6f-d6f88b026c02"
      },
      "execution_count": 34,
      "outputs": [
        {
          "output_type": "stream",
          "name": "stdout",
          "text": [
            "Confusion Matrix:\n",
            "[[ 8  1]\n",
            " [ 2 26]]\n"
          ]
        }
      ]
    },
    {
      "cell_type": "code",
      "source": [
        "precision = precision_score(y_test, stacked_predictions)\n",
        "\n",
        "recall = recall_score(y_test, stacked_predictions)\n",
        "\n",
        "f1 = f1_score(y_test, stacked_predictions)\n",
        "\n",
        "print(f\"Stacked Ensemble Accuracy: {accuracy}\")\n",
        "print(f\"Precision: {precision}\")\n",
        "print(f\"Recall: {recall}\")\n",
        "print(f\"F1-score: {f1}\")\n"
      ],
      "metadata": {
        "colab": {
          "base_uri": "https://localhost:8080/"
        },
        "id": "EJl0LGbetT4n",
        "outputId": "e1ed2e70-089a-4cf0-e4d5-eef9f1bb6e2c"
      },
      "execution_count": 35,
      "outputs": [
        {
          "output_type": "stream",
          "name": "stdout",
          "text": [
            "Stacked Ensemble Accuracy: 0.918918918918919\n",
            "Precision: 0.9629629629629629\n",
            "Recall: 0.9285714285714286\n",
            "F1-score: 0.9454545454545454\n"
          ]
        }
      ]
    },
    {
      "cell_type": "code",
      "source": [
        "# ROC curve\n",
        "fpr, tpr, thresholds = roc_curve(y_test, stacked_predictions)\n",
        "roc_auc = auc(fpr, tpr)"
      ],
      "metadata": {
        "id": "NkIY_E6QYDRE"
      },
      "execution_count": 24,
      "outputs": []
    },
    {
      "cell_type": "code",
      "source": [
        "roc_auc"
      ],
      "metadata": {
        "id": "_0IZmUENetwX",
        "colab": {
          "base_uri": "https://localhost:8080/"
        },
        "outputId": "6cb41ba4-04c5-4e85-faa9-1873bf6a0b02"
      },
      "execution_count": 36,
      "outputs": [
        {
          "output_type": "execute_result",
          "data": {
            "text/plain": [
              "0.9087301587301587"
            ]
          },
          "metadata": {},
          "execution_count": 36
        }
      ]
    },
    {
      "cell_type": "code",
      "source": [
        "plt.figure(figsize=(8, 6))\n",
        "plt.plot(fpr, tpr, color='darkorange', lw=2, label='ROC curve (area = %0.2f)' % roc_auc)\n",
        "plt.plot([0, 1], [0, 1], color='blue', lw=2, linestyle='--')\n",
        "plt.xlim([0.0, 1.0])\n",
        "plt.ylim([0.0, 1.05])\n",
        "plt.xlabel('False Positive Rate')\n",
        "plt.ylabel('True Positive Rate')\n",
        "plt.title('Receiver Operating Characteristic (ROC) Curve')\n",
        "plt.legend(loc=\"lower right\")\n",
        "plt.show()\n"
      ],
      "metadata": {
        "colab": {
          "base_uri": "https://localhost:8080/",
          "height": 564
        },
        "id": "UtmL-wP6oatn",
        "outputId": "16f31353-6488-47e6-8864-ded8236c4b14"
      },
      "execution_count": 37,
      "outputs": [
        {
          "output_type": "display_data",
          "data": {
            "text/plain": [
              "<Figure size 800x600 with 1 Axes>"
            ],
            "image/png": "[encoded data removed]"
          },
          "metadata": {}
        }
      ]
    },
    {
      "cell_type": "code",
      "source": [
        "train_sizes, train_scores, test_scores = learning_curve(meta_model, X_train_selected, y_train, cv=kf,\n",
        "                                                        train_sizes=np.linspace(0.1, 1.0, 10))\n",
        "\n",
        "train_scores_mean = np.mean(train_scores, axis=1)\n",
        "train_scores_std = np.std(train_scores, axis=1)\n",
        "test_scores_mean = np.mean(test_scores, axis=1)\n",
        "test_scores_std = np.std(test_scores, axis=1)\n",
        "\n",
        "plt.figure(figsize=(8, 6))\n",
        "plt.fill_between(train_sizes, train_scores_mean - train_scores_std,\n",
        "                 train_scores_mean + train_scores_std, alpha=0.1, color=\"r\")\n",
        "plt.fill_between(train_sizes, test_scores_mean - test_scores_std,\n",
        "                 test_scores_mean + test_scores_std, alpha=0.1, color=\"b\")\n",
        "plt.plot(train_sizes, train_scores_mean, 'o-', color=\"r\", label=\"Training score\")\n",
        "plt.plot(train_sizes, test_scores_mean, 'o-', color=\"b\", label=\"Cross-validation score\")\n",
        "plt.xlabel(\"Training examples\")\n",
        "plt.ylabel(\"Score\")\n",
        "plt.title(\"Learning Curve\")\n",
        "plt.legend(loc=\"best\")\n",
        "plt.show()"
      ],
      "metadata": {
        "colab": {
          "base_uri": "https://localhost:8080/",
          "height": 564
        },
        "id": "SItwu4n4sCOx",
        "outputId": "388d3671-6921-4687-92ed-3952379b38c0"
      },
      "execution_count": 38,
      "outputs": [
        {
          "output_type": "display_data",
          "data": {
            "text/plain": [
              "<Figure size 800x600 with 1 Axes>"
            ],
            "image/png": "[encoded data removed]"
          },
          "metadata": {}
        }
      ]
    },
    {
      "cell_type": "code",
      "source": [
        "\n",
        "import matplotlib.pyplot as plt\n",
        "\n",
        "# Models and their performance metrics\n",
        "models = ['Accuracy', 'Precision', 'Recall', 'F1 Score']\n",
        "\n",
        "SVM = [0.865, 0.871, 0.964, 0.915]\n",
        "KNN = [0.838, 0.844, 0.964, 0.900]\n",
        "GNB = [0.838, 0.871, 0.964, 0.915]\n",
        "MLP = [0.838, 0.871, 0.964, 0.915]\n",
        "RF = [0.838, 0.871, 0.964, 0.915]\n",
        "Stacked_Ensemble = [0.919, 0.963, 0.929, 0.945]\n",
        "\n",
        "# Set the width of the bars\n",
        "bar_width = 0.15\n",
        "\n",
        "# Set the position of the bars on the x-axis\n",
        "r1 = np.arange(len(models))\n",
        "r2 = [x + bar_width for x in r1]\n",
        "r3 = [x + bar_width for x in r2]\n",
        "r4 = [x + bar_width for x in r3]\n",
        "r5 = [x + bar_width for x in r4]\n",
        "r6 = [x + bar_width for x in r5]\n",
        "\n",
        "# Plotting the bars\n",
        "plt.figure(figsize=(12, 8))\n",
        "plt.bar(r1, SVM, color='b', width=bar_width, edgecolor='grey', label='SVM')\n",
        "plt.bar(r2, KNN, color='g', width=bar_width, edgecolor='grey', label='KNN')\n",
        "plt.bar(r3, GNB, color='orange', width=bar_width, edgecolor='grey', label='GNB')\n",
        "plt.bar(r4, MLP, color='r', width=bar_width, edgecolor='grey', label='MLP')\n",
        "plt.bar(r5, RF, color='cyan', width=bar_width, edgecolor='grey', label='Random Forest')\n",
        "plt.bar(r6, Stacked_Ensemble, color='purple', width=bar_width, edgecolor='grey', label='Stacked Ensemble')\n",
        "\n",
        "# Adding labels and title\n",
        "plt.xlabel('Performance Metrics', fontweight='bold')\n",
        "plt.ylabel('Scores', fontweight='bold')\n",
        "plt.title('Performance Metrics Comparison', fontweight='bold')\n",
        "\n",
        "# Adding xticks\n",
        "plt.xticks([r + 2.5 * bar_width for r in range(len(models))], models)\n",
        "\n",
        "# Show plot\n",
        "plt.ylim(0, 1)  # Set y-axis limits to range from 0 to 1\n",
        "plt.grid(axis='y')  # Add gridlines only on the y-axis\n",
        "\n",
        "# Create a separate legend above the graph\n",
        "plt.legend(['SVM', 'KNN', 'GNB', 'MLP', 'Random Forest', 'Stacked Ensemble'], loc='upper center', bbox_to_anchor=(0.5, 1.1), shadow=True, ncol=6)\n",
        "\n",
        "plt.show()\n"
      ],
      "metadata": {
        "id": "HXvHHv1K6F3R",
        "colab": {
          "base_uri": "https://localhost:8080/",
          "height": 750
        },
        "outputId": "7706429a-fc8c-4033-b509-3024fb9d6ade"
      },
      "execution_count": 39,
      "outputs": [
        {
          "output_type": "display_data",
          "data": {
            "text/plain": [
              "<Figure size 1200x800 with 1 Axes>"
            ],
            "image/png": "[encoded data removed]"
          },
          "metadata": {}
        }
      ]
    },
    {
      "cell_type": "code",
      "source": [],
      "metadata": {
        "id": "J04PL2aIvYb3"
      },
      "execution_count": null,
      "outputs": []
    },
    {
      "cell_type": "code",
      "source": [],
      "metadata": {
        "id": "wZ0LDKUhvYYx"
      },
      "execution_count": null,
      "outputs": []
    },
    {
      "cell_type": "code",
      "source": [],
      "metadata": {
        "id": "6r24T-aWvYVv"
      },
      "execution_count": null,
      "outputs": []
    },
    {
      "cell_type": "code",
      "source": [],
      "metadata": {
        "id": "uoDVcyX8JhHP"
      },
      "execution_count": null,
      "outputs": []
    },
    {
      "cell_type": "markdown",
      "source": [
        "Predictive System"
      ],
      "metadata": {
        "id": "MUOJIAFUJiAf"
      }
    },
    {
      "cell_type": "code",
      "source": [
        "user_input = input(\"Enter 4 meta-feature values separated by commas: \")\n",
        "\n",
        "input_pd_data = [float(x) for x in user_input.split(',')]\n",
        "\n",
        "if len(input_pd_data) != 4:\n",
        "    print(\"Error: You must enter exactly 4 feature values.\")\n",
        "else:\n",
        "    input_pd_data_as_numpy_array = np.asarray(input_pd_data)\n",
        "    input_data_reshaped = input_pd_data_as_numpy_array.reshape(1, -1)\n",
        "    input_pd_data = input_data_reshaped\n",
        "\n",
        "    print(\"Input data reshaped for model:\", input_pd_data)\n",
        "\n",
        "# Predict using the modified input data\n",
        "prediction = meta_model.predict(input_pd_data)\n",
        "\n",
        "print(prediction)\n",
        "if prediction[0]==1:\n",
        "  print(\"Patient has parkinson's disease\")\n",
        "else:\n",
        "  print(\"Patient do not have parkinson's disease\")"
      ],
      "metadata": {
        "id": "I3HFKPYivYSo",
        "colab": {
          "base_uri": "https://localhost:8080/"
        },
        "outputId": "9d88a6aa-788f-4536-93ed-fd85ace4adc2"
      },
      "execution_count": 48,
      "outputs": [
        {
          "output_type": "stream",
          "name": "stdout",
          "text": [
            "Enter 4 meta-feature values separated by commas: 0.9958326788198504,0.7309041923406518,0.952460434599811,0.9966269871061092\n",
            "Input data reshaped for model: [[0.99583268 0.73090419 0.95246043 0.99662699]]\n",
            "[1]\n",
            "Patient has parkinson's disease\n"
          ]
        }
      ]
    },
    {
      "cell_type": "code",
      "source": [],
      "metadata": {
        "id": "yM9rJ_dkhKbm"
      },
      "execution_count": null,
      "outputs": []
    }
  ]
}